{
 "cells": [
  {
   "cell_type": "markdown",
   "id": "f297d1b7-de5d-4102-b9ae-d2d77e636595",
   "metadata": {},
   "source": [
    "# Data Science Tools and Ecosystem"
   ]
  },
  {
   "cell_type": "markdown",
   "id": "f17a6869-b892-4b61-8785-ea9c25564487",
   "metadata": {},
   "source": [
    "In this note book, Data Science Tools and Ecosystem are summarized"
   ]
  },
  {
   "cell_type": "markdown",
   "id": "3dcc246d-8513-48ba-a424-51e644222f97",
   "metadata": {},
   "source": [
    "**Objectives:**\n",
    "- List popular languages for Data Science\n",
    "- List popular libraries for Data Science\n",
    "- List popular tools for Data Science"
   ]
  },
  {
   "cell_type": "markdown",
   "id": "44f8132e-ea45-4383-b0aa-f2ab78251ebc",
   "metadata": {},
   "source": [
    "Some of the popular languages that Data Scientists use are:\n",
    "1. Python\n",
    "2. R\n",
    "3. SQL"
   ]
  },
  {
   "cell_type": "markdown",
   "id": "2d59cf30-c310-40a8-a147-338d7a99168b",
   "metadata": {},
   "source": [
    "Some of the commonly used libraries used by Data Scientists include:\n",
    "1. Pandas\n",
    "2. Numply\n",
    "3. Matplotlib"
   ]
  },
  {
   "cell_type": "markdown",
   "id": "10d9c973-4998-4f11-9e7e-5cd8a75e8bce",
   "metadata": {},
   "source": [
    "|Data Science Tools|\n",
    "|-|\n",
    "|Git|\n",
    "|Rstudio|\n",
    "|Jupyter|\n"
   ]
  },
  {
   "cell_type": "markdown",
   "id": "d74dfef2-7d57-49f8-8338-86a5da99af76",
   "metadata": {},
   "source": [
    "### Below are a few examples of evaluating arithmetic expressions in Python"
   ]
  },
  {
   "cell_type": "code",
   "execution_count": 7,
   "id": "08a1e4f2-2502-48dd-aec0-c320cba40649",
   "metadata": {
    "tags": []
   },
   "outputs": [
    {
     "data": {
      "text/plain": [
       "17"
      ]
     },
     "execution_count": 7,
     "metadata": {},
     "output_type": "execute_result"
    }
   ],
   "source": [
    "(3*4)+5\n",
    "# This is a simple arthmetic expression to mutiply then add integer"
   ]
  },
  {
   "cell_type": "code",
   "execution_count": 6,
   "id": "d6ef9cdb-04a7-40ad-80df-f1e4f4ff7ef2",
   "metadata": {
    "tags": []
   },
   "outputs": [
    {
     "data": {
      "text/plain": [
       "3.3333333333333335"
      ]
     },
     "execution_count": 6,
     "metadata": {},
     "output_type": "execute_result"
    }
   ],
   "source": [
    "200//60 + (200%60)/60\n",
    "# This will convert 200 minutes to hours by dividing by 60"
   ]
  },
  {
   "cell_type": "markdown",
   "id": "9112de4d-c441-4408-a79e-7635febbc657",
   "metadata": {},
   "source": [
    "## Author\n",
    "Awesome person"
   ]
  },
  {
   "cell_type": "code",
   "execution_count": null,
   "id": "f1b286bc-f451-4428-a27c-a6025e261219",
   "metadata": {},
   "outputs": [],
   "source": []
  }
 ],
 "metadata": {
  "kernelspec": {
   "display_name": "Python",
   "language": "python",
   "name": "conda-env-python-py"
  },
  "language_info": {
   "codemirror_mode": {
    "name": "ipython",
    "version": 3
   },
   "file_extension": ".py",
   "mimetype": "text/x-python",
   "name": "python",
   "nbconvert_exporter": "python",
   "pygments_lexer": "ipython3",
   "version": "3.7.12"
  }
 },
 "nbformat": 4,
 "nbformat_minor": 5
}
